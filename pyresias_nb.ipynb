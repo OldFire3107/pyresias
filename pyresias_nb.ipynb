{
 "cells": [
  {
   "cell_type": "code",
   "execution_count": 2,
   "id": "2b9131e7-64dd-46ac-ade0-fae84a2fdeca",
   "metadata": {},
   "outputs": [
    {
     "name": "stdout",
     "output_type": "stream",
     "text": [
      "\n",
      "Pyresias: a toy parton shower\n",
      "\n",
      "Jupyter lab step-by-step tutorial\n"
     ]
    }
   ],
   "source": [
    "from random import * # random numbers\n",
    "import os, subprocess # to check and create directories \n",
    "import math # python math\n",
    "import numpy as np # numerical python\n",
    "import scipy # scientific python\n",
    "from scipy import optimize # for numerical solution of equations\n",
    "from matplotlib import pyplot as plt # plotting\n",
    "import matplotlib.gridspec as gridspec # more plotting \n",
    "from prettytable import PrettyTable # pretty printing of tables\n",
    "from tqdm import tqdm # display progress\n",
    "import lhapdf # LHAPDF python interface\n",
    "from optparse import OptionParser # command line parameters\n",
    "from scipy.integrate import quad # for numerical integrals\n",
    "from matplotlib.ticker import MultipleLocator\n",
    "\n",
    "################################################\n",
    "print('\\nPyresias: a toy parton shower\\n')\n",
    "print('Jupyter lab step-by-step tutorial')\n",
    "# a simple toy q -> q+g parton shower \n",
    "#################################################"
   ]
  },
  {
   "cell_type": "markdown",
   "id": "a48f1741-9c2e-4c72-96a8-549ce2dca319",
   "metadata": {},
   "source": [
    "At this point, we have loaded all the necessary Python libraries and printed the introduction. \n",
    "\n",
    "The next step is to load ```LHAPDF```. Although not strictly necessary for this parton shower (and the \"full\" shower for $e^+ e^- \\rightarrow q\\bar{q}$), ```LHAPDF``` will be used for the evolution of the strong coupling constant $\\alpha_S$. "
   ]
  },
  {
   "cell_type": "code",
   "execution_count": 3,
   "id": "271cd779-96d6-4259-b94d-9ca56de5d990",
   "metadata": {},
   "outputs": [
    {
     "name": "stdout",
     "output_type": "stream",
     "text": [
      "LHAPDF 6.5.4 loading all 103 PDFs in set PDF4LHC15_nlo_mc_pdfas\n",
      "PDF4LHC15_nlo_mc_pdfas, version 1; 103 PDF members\n"
     ]
    }
   ],
   "source": [
    "# LHAPDF setup:\n",
    "# set up the alphaS object from LHAPDF:\n",
    "LHAPDF_alphaS = lhapdf.mkAlphaS(\"PDF4LHC15_nlo_mc_pdfas\")\n",
    "\n",
    "# set up the PDF to pick the minimum valid scale:\n",
    "pdf = lhapdf.mkPDFs(\"PDF4LHC15_nlo_mc_pdfas\")"
   ]
  },
  {
   "cell_type": "markdown",
   "id": "f7bc99c5-87b2-48f9-b598-0d3e1c083c4a",
   "metadata": {},
   "source": [
    "Let's now define some switches that will allow us to vary the evolution starting and cutoff scales, as well as whether to print debugging information.\n",
    "\n",
    "```Qc``` and ```Q``` are the cutoff and \"hard\" scales, respectively. \n",
    "\n",
    "```Nevolve``` represents the number of \"evolutions\" to perform in this simple example. Note that kinematics will not be reconstructed in this warmup exercise."
   ]
  },
  {
   "cell_type": "code",
   "execution_count": 4,
   "id": "ee57ed6d-8207-4e1a-90d4-df49681ae024",
   "metadata": {},
   "outputs": [],
   "source": [
    "#############\n",
    "# SWITCHES: #\n",
    "#############\n",
    "\n",
    "# switch to print information or not:\n",
    "debug = False\n",
    "# switch to plot stuff or not:\n",
    "plot = True\n",
    "\n",
    "# RUN OPTIONS\n",
    "# the number of branches to evolve:\n",
    "Nevolve = 100000\n",
    "# the cutoff scale, e.g. 1 GeV. \n",
    "Qc = 1.\n",
    "# the hard scale, e.g. 1000 GeV\n",
    "Q = 1000.\n"
   ]
  },
  {
   "cell_type": "markdown",
   "id": "3f04b25e-fe74-43e8-9797-268b36af0386",
   "metadata": {},
   "source": [
    "The next step is to define a $C_F$, as well as the choice for the scale treatment. A fixed scale may be preferred in certain cases, e.g. to compare the splitting function to the distribution of the momentum fraction $z$ coming out of the simulation."
   ]
  },
  {
   "cell_type": "code",
   "execution_count": 5,
   "id": "2a32d44c-ba8f-4078-833b-4f6f6676c178",
   "metadata": {},
   "outputs": [
    {
     "name": "stdout",
     "output_type": "stream",
     "text": [
      "WARNING: alphaS is fixed during the evolution to scale= 500.0\n",
      "Set scaleoption = \"pt\" if you wish to capture some higher-order corrections\n"
     ]
    }
   ],
   "source": [
    "# Constants:\n",
    "# QCD quark charge = (N^2 - 1)/2N for N colours\n",
    "CF = 4./3.\n",
    "\n",
    "# fixed scale if the alphaS is fixed:\n",
    "scaleoption = \"fixed\" # \"pt\" for the default scale, \"fixed\" for a fixed scale, given by fixedScale:\n",
    "fixedScale = Q/2. # if the choice above is \"fixed\"\n",
    "\n",
    "if scaleoption == \"fixed\":\n",
    "    print('WARNING: alphaS is fixed during the evolution to scale=', Q/2)\n",
    "    print('Set scaleoption = \"pt\" if you wish to capture some higher-order corrections')"
   ]
  },
  {
   "cell_type": "markdown",
   "id": "c77b0d2a-779e-4d9e-8ae9-bd5242231408",
   "metadata": {},
   "source": [
    "Let's now define:\n",
    "\n",
    "- the splitting function, $P(z) = C_F \\frac{1+z^2}{1-z}$, given by ```Pqq(z)```,\n",
    "- the overestimate of the splitting function $\\hat{P} = C_F\\frac{2}{1-z}$, given by ```Pqq_over(z)```,\n",
    "- a function that returns the scale of $\\alpha_S$, according to the global variable ```scaleoption```, ```scale_of_alphaS```,\n",
    "- the function that returns $\\alpha_S$, accessed through ```LHAPDF```, ```alphaS```,\n",
    "- the function $t \\times \\hat{\\Gamma}(z) = \\int_{\\hat{z}_-}^{\\hat{z}^+} \\mathrm{d} z \\frac{\\hat{\\alpha_S}}{2\\pi} \\hat{P}(z)$, given by ```tGamma```.\n",
    "- the inverse of the function $t \\times \\hat{\\Gamma}(z)$, given by ```inversetGamma```,\n",
    "- the overestimates of the limits of integration $\\hat{z}_-$ and $\\hat{z}_+$, given by ```zm_over``` and ```zp_over```,\n",
    "- and the function that gives the overestimate of $\\alpha_S$, ```get_alphaS_over```. "
   ]
  },
  {
   "cell_type": "code",
   "execution_count": 16,
   "id": "d65c94f8-c7e0-4ad8-aff5-778cc8801e2b",
   "metadata": {},
   "outputs": [],
   "source": [
    "# the q -> q + g splitting function\n",
    "def Pqq(z): return CF * (1. + z**2)/(1.-z)\n",
    "    \n",
    "# the q -> q + g splitting function *overestimate* \n",
    "def Pqq_over(z): return 2.*CF/(1.-z)\n",
    "\n",
    "# the scale choice of alphaS \n",
    "def scale_of_alphaS(t, z):\n",
    "    if scaleoption == \"pt\":\n",
    "        return z * (1-z) * math.sqrt(t)\n",
    "    elif scaleoption == \"fixed\":\n",
    "        return fixedScale\n",
    "\n",
    "# return the true alphaS using the PDF alphaS over 2 pi\n",
    "def alphaS(t, z, Qcut, aSover):\n",
    "    scale = scale_of_alphaS(t, z)\n",
    "    if scale < Qc:\n",
    "        return LHAPDF_alphaS.alphasQ(Qcut)/2./math.pi\n",
    "    return LHAPDF_alphaS.alphasQ(scale)/2./math.pi\n",
    "\n",
    "# the analytical integral of t * Gamma over z \n",
    "def tGamma(z, aSover):\n",
    "    return -2.*aSover*CF*np.log1p(-z) \n",
    "\n",
    "# the inverse of the function t*Gamma, given the overestimate for alphaS:\n",
    "def inversetGamma(r, aSover):\n",
    "    return 1. - math.exp(- 0.5*r/CF/aSover)\n",
    "\n",
    "# the overestimated upper and lower limit for the z integral:\n",
    "def zp_over(t, Qcut): return 1.-math.sqrt(Qcut**2/t)\n",
    "def zm_over(t, Qcut): return math.sqrt(Qcut**2/t)\n",
    "\n",
    "# set the overestimate of alphaS once and for all\n",
    "def get_alphaS_over(Q, Qcut):\n",
    "    if scaleoption == \"pt\":\n",
    "        minscale = math.sqrt(pdf[0].q2Min) # the minimum scale^2 available to the PDF\n",
    "        scale = minscale\n",
    "    elif scaleoption == \"fixed\":\n",
    "        scale = fixedScale\n",
    "    alphaS_over = LHAPDF_alphaS.alphasQ(scale)/2./math.pi\n",
    "    if debug: print('alpha_S overestimate set to', alphaS_over, 'for scale=', scale, 'GeV')\n",
    "    return alphaS_over\n",
    "\n",
    "# get the momentum fraction candidate for the emission\n",
    "def Get_zEmission(t, Qcut, R, aSover): return inversetGamma( tGamma(zm_over(t, Qcut), aSover) + R * ( tGamma(zp_over(t, Qcut), aSover) - tGamma(zm_over(t, Qcut), aSover)), aSover)\n",
    "\n",
    "# calculate the transverse momentum of the emission\n",
    "def Get_pTsq(t, z): return z**2 * (1-z)**2 * t\n",
    "\n",
    "# calculate the virtual mass-squared of the emitting particle\n",
    "def Get_mvirtsq(t,z): return z*(1-z) * t"
   ]
  },
  {
   "cell_type": "markdown",
   "id": "9e46909d-ce67-40a5-b660-418585e80eb8",
   "metadata": {},
   "source": [
    "Given the above, the treatment now proceeds as follows:\n",
    "\n",
    "The overstimate of the Sudakov form factor is given by:\n",
    "\n",
    "$\\hat{\\Delta}(t, t_\\mathrm{max}) = \\exp\\left\\{ - \\int^{t_\\mathrm{max}}_{t} \\mathrm{d}t' \\hat{\\Gamma} (t') \\right\\}$,\n",
    "\n",
    "with:\n",
    "\n",
    "$\\hat{\\Gamma} (t') = \\frac{1}{t'}   \\int_{\\hat{z}_-}^{\\hat{z}^+} \\mathrm{d} z \\frac{\\hat{\\alpha_S}}{2\\pi} \\hat{P}(z)$.\n",
    "\n",
    "We are working with the overestimated functions, and this allows us to analytically solve:\n",
    "\n",
    "$\\hat{\\Delta}(t, t_\\mathrm{max}) = R$, \n",
    "\n",
    "where $R$ is a random number in $[0,1]$. \n",
    "\n",
    "Therefore, we are seeking the solution of:\n",
    "\n",
    "$\\exp\\left\\{ - \\int^{t_\\mathrm{max}}_{t} \\mathrm{d}t' \\hat{\\Gamma} (t') \\right\\} = R$,\n",
    "\n",
    "or:\n",
    "\n",
    "$\\int^{t_\\mathrm{max}}_{t} \\mathrm{d}t' \\hat{\\Gamma} (t') = \\ln\\left(\\frac{1}{R}\\right)$.\n",
    "\n",
    "We now define a function $\\rho({\\hat{z}_+},{\\hat{z}_-}) = \\int_{\\hat{z}_-}^{\\hat{z}^+} \\mathrm{d} z \\frac{\\hat{\\alpha_S}}{2\\pi} \\hat{P}(z) = t'\\hat{\\Gamma} (t') $, to obtain:\n",
    "\n",
    "$\\int^{t_\\mathrm{max}}_{t} \\frac{\\mathrm{d}t'}{t'} \\rho = \\ln\\left(\\frac{1}{R}\\right)$, \n",
    "\n",
    "or:\n",
    "\n",
    "$\\int^{t_\\mathrm{max}}_{t} \\mathrm{d}\\ln t' \\rho = \\ln\\left(\\frac{1}{R}\\right)$.\n",
    "\n",
    "If the limit overestimates in $\\rho({\\hat{z}_+},{\\hat{z}_-})$ do not depend on $t'$, then: \n",
    "\n",
    "$\\left. \\rho \\ln t \\right|_t^{t_\\mathrm{max}} = \\ln\\left(\\frac{1}{R}\\right) \\Rightarrow \\rho \\ln \\frac{t_\\mathrm{max}}{t}  = \\ln\\left(\\frac{1}{R}\\right) $, \n",
    "\n",
    "which yields after exponentiation:\n",
    "\n",
    "$t =  t_\\mathrm{max} R^{1/\\rho}$.\n",
    "\n",
    "In the numerical evaluation of $t$, we instead focus on:\n",
    "\n",
    "$\\ln \\frac{t}{t_\\mathrm{max}} = \\frac{1}{\\rho} \\ln R$,\n",
    "\n",
    "and construct the function:\n",
    "\n",
    "$E(t) = \\ln \\frac{t}{t_\\mathrm{max}} - \\frac{1}{\\rho} \\ln R$,\n",
    "\n",
    "where now, explicitly, $\\rho({\\hat{z}_+},{\\hat{z}_-}) = \\int_{\\hat{z}_-}^{\\hat{z}_+} \\mathrm{d} z \\frac{\\hat{\\alpha_S}}{2\\pi} \\hat{P}(z) = \\int^{\\hat{z}_+} \\mathrm{d} z \\frac{\\hat{\\alpha_S}}{2\\pi} \\hat{P}(z) - \\int^{\\hat{z}_-} \\mathrm{d} z \\frac{\\hat{\\alpha_S}}{2\\pi} \\hat{P}(z)$.\n",
    "\n",
    "The function ```EmissionScaleFunc``` in the code that follows corresponds to $E(t)$ and the $\\rho$ function is calculated via: ```r = tGamma(zp_over(t, Qc), aSover) - tGamma(zm_over(t, Qc), aSover)```. \n",
    "\n",
    "The \"next\" value of $t$ is then calculated by solving $E(t)=0$ in the function ```Get_tEmission```. This is done numerically via ```scipy.optimize.ridder```. \n",
    "\n",
    "The ```Get_tEmission``` function actually finds the value of $\\ln(t/t_\\mathrm{max})$ for which the solution is obtained, and therefore needs to be exponentiated and multiplied by $t_\\mathrm{max}$ (represented by ```Q**2```) to get the value of $t$. "
   ]
  },
  {
   "cell_type": "code",
   "execution_count": 17,
   "id": "3f69cbc9-2408-427e-baf3-fa5e02770f06",
   "metadata": {},
   "outputs": [],
   "source": [
    "# the function E(ln(t/Q**2)) = ln(t/Q**2) - (1/r) ln(R) for the numerical solution for the evolution scale, given random number R\n",
    "def EmissionScaleFunc(logt_over_Qsq, Q, Qcut, R, aSover):\n",
    "    # calculate t:\n",
    "    t = Q**2 * math.exp( logt_over_Qsq )\n",
    "    # get r:\n",
    "    r = tGamma(zp_over(t, Qcut), aSover) - tGamma(zm_over(t, Qcut), aSover)\n",
    "    # calculate E(ln(t/Q**2)), the equation to solve\n",
    "    return logt_over_Qsq - (1./r) * math.log(R)\n",
    "\n",
    "# a function that calculates (numerically) the emission scale given the initial scale Q, cutoff Qc and random number R\n",
    "def Get_tEmission(Q, Qcut, R, tfac, aSover):\n",
    "    tolerance = 1E-3 # the tolerance for the solution\n",
    "    popt = [Q, Qcut, R, aSover] # options to pass to the function for the solver\n",
    "    EmissionFunc_arg = lambda tEm : EmissionScaleFunc(tEm, *popt) # the function in a form appropriate for the solver\n",
    "    # calculate the solution using \"Ridder's\" method\n",
    "    sol, results = scipy.optimize.ridder(EmissionFunc_arg, math.log(tfac*Qcut**2/Q**2), 0., xtol=tolerance, full_output=True, maxiter=1000)\n",
    "    # get the actual evolution variable from the solution\n",
    "    tEm_sol = Q**2 * math.exp( sol )\n",
    "    # if a solution has not been found, terminate the evolution        \n",
    "    if abs(EmissionFunc_arg(sol)) > tolerance:\n",
    "            return Q**2, [], False\n",
    "    # otherwise return the emission scale and continue\n",
    "    return tEm_sol, results, True"
   ]
  },
  {
   "cell_type": "markdown",
   "id": "ffcda1ce-99df-4667-a85f-01e7b9ba8d9b",
   "metadata": {},
   "source": [
    "To get the $z$ variable, we need to solve:\n",
    "\n",
    "$ \\rho (z,{\\hat{z}_-}) = R' \\rho({\\hat{z}_+},{\\hat{z}_-})$,\n",
    "\n",
    "where $R'$ is another random number in $[0,1]$. \n",
    "\n",
    "Recalling that: \n",
    "\n",
    "$t' \\hat{\\Gamma} (t') = \\int_{\\hat{z}_-}^{\\hat{z}_+} \\mathrm{d} z \\frac{\\hat{\\alpha_S}}{2\\pi} \\hat{P}(z)$, \n",
    "\n",
    "we now define\n",
    "\n",
    "$\\tilde{\\rho}(z) = \\int^{z} \\mathrm{d} z \\frac{\\hat{\\alpha_S}}{2\\pi} \\hat{P}(z)$, we can write the equation for $z$ as:\n",
    "\n",
    "$\\tilde{\\rho}(z) - \\tilde{\\rho}({\\hat{z}_-}) = R' \\left[ \\tilde{\\rho}({\\hat{z}_+}) - \\tilde{\\rho}({\\hat{z}_-}) \\right]$,\n",
    "\n",
    "and we obtain $z$ by solving:\n",
    "\n",
    "$ z = \\tilde{\\rho}^{-1} \\left\\{ \\tilde{\\rho}({\\hat{z}_-}) + R' \\left[\\tilde{\\rho}({\\hat{z}_+}) - \\tilde{\\rho}({\\hat{z}_-}) \\right] \\right\\}$,\n",
    "\n",
    "where $\\tilde{\\rho}^{-1}$ is the inverse of $\\tilde{\\rho}$, which is given by the ```inversetGamma``` function in our code. \n",
    "\n",
    "The following function ```Generate_Emission``` solves for the next $t$ and $z$ using the overestimates, and then implements the vetoing by constructing a probability with the full splitting function and value of $\\alpha_S$. "
   ]
  },
  {
   "cell_type": "code",
   "execution_count": 18,
   "id": "de88db1b-8583-4dcc-9f64-68a759f6aa5d",
   "metadata": {},
   "outputs": [],
   "source": [
    "# function that generates emissions:\n",
    "def Generate_Emission(Q, Qcut, tfac, aSover):\n",
    "    generated = True\n",
    "    # generate random numbers\n",
    "    R1 = random()\n",
    "    R2 = random()\n",
    "    R3 = random()\n",
    "    R4 = random()\n",
    "    # solve for the (candidate) emission scale:\n",
    "    tEm, results, continueEvolution = Get_tEmission(Q, Qcut, R1, tfac, aSover)\n",
    "    # if no solution is found then end branch\n",
    "    if continueEvolution == False:\n",
    "        zEm = 1.\n",
    "        pTsqEm = 0.\n",
    "        MsqEm = 0.\n",
    "        return tEm, zEm, pTsqEm, MsqEm, generated, continueEvolution\n",
    "    if debug: print('\\tcandidate emission scale, sqrt(tEm)=', math.sqrt(tEm))\n",
    "    # get the (candidate) z of the emission\n",
    "    zEm = Get_zEmission(tEm, Qc, R2, aSover)\n",
    "    if debug: print('\\tcandidate momentum fraction, zEm=', zEm)\n",
    "    # get the transverse momentum \n",
    "    pTsqEm = Get_pTsq(tEm, zEm)\n",
    "    if debug: print('\\tcandidate transverse momentum squared =', pTsqEm)\n",
    "    # now check the conditions to accept or reject the emission:\n",
    "    # check if the transverse momentum is physical:\n",
    "    if pTsqEm < 0.:\n",
    "        if debug: print('\\t\\temission rejected due to negative pT**2=', pTsqEm)\n",
    "        generated = False\n",
    "    # compare the splitting function overestimate prob to a random number\n",
    "    if Pqq(zEm)/Pqq_over(zEm) < R3:\n",
    "        if debug: print('\\t\\temission rejected due to splitting function overestimate, p=', Pqq(zEm)/Pqq_over(zEm), 'R=', R3)\n",
    "        generated = False\n",
    "    else:\n",
    "        if debug: print('\\t\\temission NOT rejected due to splitting function overestimate, p=', Pqq(zEm)/Pqq_over(zEm), 'R=', R3)\n",
    "    # compare the alphaS overestimate prob to a random number\n",
    "    if alphaS(tEm, zEm, Qc, aSover)/aSover < R4:\n",
    "        if debug: print('\\t\\temission rejected due to alphaS overestimate, p=', alphaS(tEm, zEm, Qc, aSover)/aSover, 'R=', R4)\n",
    "        generated = False\n",
    "    else:\n",
    "        if debug: print('\\t\\temission NOT rejected due to alphaS overestimate, p=', alphaS(tEm, zEm, Qc, aSover)/aSover, 'R=', R4)\n",
    "    # get the virtual mass squared:\n",
    "    MsqEm = Get_mvirtsq(tEm, zEm)\n",
    "    if generated == False: # rejected emission\n",
    "        zEm = 1.\n",
    "        pTsqEm = 0.\n",
    "        MsqEm = 0.\n",
    "    # return all the variables for the emission\n",
    "    return tEm, zEm, pTsqEm, MsqEm, generated, continueEvolution"
   ]
  },
  {
   "cell_type": "markdown",
   "id": "61843a06-2301-4a91-bfe1-b1881447dec5",
   "metadata": {},
   "source": [
    "The above function generates the next emission scale and momentum fraction. To get the full evolution, the main function uses it, until the cutoff scale is reached. \n",
    "\n",
    "Note that the next evolution scale is set to $\\tilde{t} z^2$ in order to implement angular ordering in the branchings"
   ]
  },
  {
   "cell_type": "code",
   "execution_count": 19,
   "id": "29254596-9562-46c7-90fc-5b643515a9c5",
   "metadata": {},
   "outputs": [],
   "source": [
    "# the function that performs the evolution of a single branch:\n",
    "# returns a list of all the emissions for further processing\n",
    "def Evolve(Q, Qmin, aSover):\n",
    "    # the minimum evolution scale\n",
    "    tEm_min = Qmin**2\n",
    "    # counter for the number of emissions:\n",
    "    Nem = 0\n",
    "    # array to store emission info:\n",
    "    Emissions = []\n",
    "    fac_tEm = 3.999 # minimum value for the cutoff to try emissions = fac_tEm * Qc**2 (should be less than the actual cutoff)\n",
    "    fac_cutoff = 4. # actual cutoff = fac_cutoff * Qc**2\n",
    "    # star the evolution\n",
    "    tEm = Q**2 # initial value of the evolution variable\n",
    "    zEm = 1 # initial value of the momentum fraction\n",
    "    if debug: print('generating evolution for Q=', Q, 'GeV\\n')\n",
    "    # continue the evolution while we are above the cutoff:\n",
    "    while np.sqrt(tEm)*zEm > np.sqrt(fac_cutoff*tEm_min):\n",
    "        # evolve:\n",
    "        tEm, zEm, pTsqEm, MsqEm, generatedEmission, continueEvolution = Generate_Emission(np.sqrt(tEm)*zEm, np.sqrt(tEm_min), fac_tEm, aSover)\n",
    "        # if the solver could not find a solution, end the evolution\n",
    "        if continueEvolution == False:\n",
    "            if debug:\n",
    "                print('no further emissions, evolution ended')\n",
    "                print('total number of emissions=', Nem)\n",
    "                print('\\n')\n",
    "                print('-----')\n",
    "                print('Emissions table:')\n",
    "                PrintEmissions(Emissions)\n",
    "            return Emissions\n",
    "        # if we have already passed the cutoff this emission does not count\n",
    "        # this will also terminate the evolution\n",
    "        if tEm < fac_cutoff*tEm_min: \n",
    "            if debug: print('\\t\\tXX->emission rejected at sqrt(t)=', math.sqrt(tEm), 'since it is below cutoff')\n",
    "            zEm = 1.\n",
    "            pTsqEm = 0.\n",
    "            QsqEm = 0.\n",
    "            if debug: print('total number of emissions=', Nem)\n",
    "            return Emissions\n",
    "        # if the emission was successful, append to the Emissions list and continue\n",
    "        if zEm != 1.0:\n",
    "            Emissions.append([math.sqrt(tEm), zEm, math.sqrt(pTsqEm), math.sqrt(MsqEm)])\n",
    "            if debug: print('\\t->successful emission at sqrt(t)=', math.sqrt(tEm), 'z=', zEm, 'pT=', math.sqrt(pTsqEm), 'mVirt=', math.sqrt(MsqEm))\n",
    "            Nem = Nem + 1\n",
    "    if debug:\n",
    "        print('no further emissions, evolution ended')\n",
    "        print('total number of emissions=', Nem)\n",
    "        print('\\n')\n",
    "        print('-----')\n",
    "        print('Emissions table:')\n",
    "        PrintEmissions(Emissions)\n",
    "    return Emissions\n"
   ]
  },
  {
   "cell_type": "markdown",
   "id": "45284340-67d5-4020-9e88-432bbf66f9e4",
   "metadata": {},
   "source": [
    "We are now able to perform the evolution! Note that this corresponds to the evolution of a single \"quark\" line in its center-of-mass frame. Therefore, no full reconstruction is performed here. "
   ]
  },
  {
   "cell_type": "code",
   "execution_count": 20,
   "id": "95962415-5eb4-4763-99c6-5ef3b5aa82a8",
   "metadata": {},
   "outputs": [
    {
     "name": "stdout",
     "output_type": "stream",
     "text": [
      "Evolving 100000 branches from Q= 1000.0 GeV --> Qc= 1.0 GeV\n"
     ]
    },
    {
     "name": "stderr",
     "output_type": "stream",
     "text": [
      "100%|██████████████████████████████████████████████████████████████████████████████████████████████████████████████████████████| 100000/100000 [00:17<00:00, 5647.50it/s]"
     ]
    },
    {
     "name": "stdout",
     "output_type": "stream",
     "text": [
      "All evolutions ended\n"
     ]
    },
    {
     "name": "stderr",
     "output_type": "stream",
     "text": [
      "\n"
     ]
    }
   ],
   "source": [
    "##########################\n",
    "# Evolution begins here! #\n",
    "##########################\n",
    "\n",
    "# set the overestimate of alphaS once and for all:\n",
    "alphaS_over = get_alphaS_over(Q, Qc)\n",
    "if debug: print('alphaS overestimate=', alphaS_over)\n",
    "    \n",
    "# list to store all emission information:\n",
    "AllEmissions = []\n",
    "\n",
    "print('Evolving', Nevolve, 'branches from Q=', Q, 'GeV --> Qc=', Qc, 'GeV')\n",
    "\n",
    "# perform evolution over Nevolve branches:\n",
    "for j in tqdm(list(range(Nevolve))): # tqdm is the progress bar \n",
    "    # perform the evolution over a single branch j and return a list of all the emissions:\n",
    "    Emissions = Evolve(Q,Qc,alphaS_over)\n",
    "    # concatenate the emissions of this evolution branch to the list of all emissions to plot\n",
    "    AllEmissions = AllEmissions + Emissions\n",
    "\n",
    "print('All evolutions ended')"
   ]
  },
  {
   "cell_type": "markdown",
   "id": "aaaba3a6-d6f1-4c7d-84ec-8d7c48dd0ad4",
   "metadata": {},
   "source": [
    "Let's compare the momentum fraction with the expected one from the full splitting function. Note that this will only be exact if the scale has been set to fixed, otherwise there will be some dependence of $\\alpha_S$ on $z$ by using the $p_T$ of the emissions as its argument. "
   ]
  },
  {
   "cell_type": "code",
   "execution_count": 23,
   "id": "ab447802-edeb-4489-91d2-2492bf4259fe",
   "metadata": {},
   "outputs": [
    {
     "name": "stdout",
     "output_type": "stream",
     "text": [
      "---\n",
      "plotting z of emissions\n"
     ]
    },
    {
     "data": {
      "text/plain": [
       "[]"
      ]
     },
     "execution_count": 23,
     "metadata": {},
     "output_type": "execute_result"
    },
    {
     "data": {
      "image/png": "[encoded data removed]",
      "text/plain": [
       "<Figure size 640x480 with 2 Axes>"
      ]
     },
     "metadata": {},
     "output_type": "display_data"
    }
   ],
   "source": [
    "###########################\n",
    "print('---')\n",
    "print('plotting z of emissions')\n",
    "# plot settings ########\n",
    "plot_type = 'momentumfrac'\n",
    "# plot:\n",
    "# plot settings\n",
    "ylab = '$P(1-z)$'\n",
    "xlab = '$1-z$'\n",
    "ylog = True\n",
    "xlog = False\n",
    "nbins=50\n",
    "# construct the axes for the plot\n",
    "fig = plt.figure(constrained_layout=True)\n",
    "fig.get_layout_engine().set(w_pad=0 / 72, h_pad=0 / 72, hspace=0,\n",
    "                            wspace=0)\n",
    "gs = gridspec.GridSpec(4, 4,figure=fig,wspace=0, hspace=0)\n",
    "ax = fig.add_subplot(gs[:3, :])\n",
    "ax2 = fig.add_subplot(gs[3, :])\n",
    "gs.update(wspace=0,hspace=0)\n",
    "\n",
    "ax.grid(False)\n",
    "ax2.xaxis.set_minor_locator(MultipleLocator(0.05))\n",
    "ax2.yaxis.set_minor_locator(MultipleLocator(0.025))\n",
    "\n",
    "tarray = []\n",
    "for i in range(len(AllEmissions)):\n",
    "    tarray.append(1-np.array(AllEmissions[i][1]))\n",
    "gs.update(wspace=0.0, hspace=0.0)\n",
    "\n",
    "# get the histogram bins:\n",
    "bins, edges = np.histogram(tarray, bins=nbins)\n",
    "left,right = edges[:-1],edges[1:]\n",
    "X = np.array([0.5*left+0.5*right]).T.flatten()\n",
    "Y = np.array([bins]).T.flatten()\n",
    "# normalise:\n",
    "xnorm_min=0.2\n",
    "xnorm_max=0.9\n",
    "\n",
    "Y = Y/np.linalg.norm(Y[(X>xnorm_min) & (X<xnorm_max)])\n",
    "Ysum = Y[(X>xnorm_min) & (X<xnorm_max)].sum()\n",
    "gs.update(wspace=0.0, hspace=0.0)\n",
    "\n",
    "# plot:\n",
    "ax.plot(X,Y, label='Pyresias', color='red', lw=0, marker='o', ms=1)\n",
    "\n",
    "# compare to the input splitting function\n",
    "# this comparison is only correct if alphaS is fixed\n",
    "# this is because the scale of alphaS is also a function of z \n",
    "Yspl = Pqq(1-X) * (X[1] - X[0])\n",
    "\n",
    "# get the integral numerically, but not in the whole range\n",
    "# since the splitting function diverges as z->1 and this cannot be captured numerically:\n",
    "zp = X[(X<xnorm_max)][-1]\n",
    "zm = X[(X>xnorm_min)][0]\n",
    "def Pqq1mz(z):\n",
    "    return Pqq(1-z)\n",
    "YsplI = quad(Pqq1mz, zm, zp)\n",
    "Yspl = Yspl/YsplI[0]*Ysum\n",
    "ax.plot(X,Yspl, color='blue', lw=1, label='Splitting function')\n",
    "\n",
    "# ratio:\n",
    "ax2.plot(X,Y/Yspl, color='red', lw=0, label='Splitting function', marker='o', ms=1)\n",
    "ax2.hlines(y=1, xmin=0, xmax=1, color='black', ls='--')\n",
    "\n",
    "# set the ticks, labels and limits etc.\n",
    "ax.set_ylabel(ylab, fontsize=20)\n",
    "ax2.set_xlabel(xlab, fontsize=20)\n",
    "ax2.set_ylabel('Pyr./Spl.')\n",
    "ax2.set_ylim(0.9,1.1)\n",
    "ax2.set_xlim(0.0,1.0)\n",
    "ax.set_xlim(0.0,1.0)\n",
    "# choose x and y log scales\n",
    "if ylog:\n",
    "    ax.set_yscale('log')\n",
    "else:\n",
    "    ax.set_yscale('linear')\n",
    "if xlog:\n",
    "    ax.set_xscale('log')\n",
    "else:\n",
    "    ax.set_xscale('linear')\n",
    "\n",
    "# create legend and plot/font size\n",
    "ax.legend()\n",
    "ax.legend(loc=\"upper right\", numpoints=1, frameon=False, prop={'size':8})\n",
    "ax.set_xticklabels('')\n",
    "ax.set_xticks([])"
   ]
  },
  {
   "cell_type": "code",
   "execution_count": null,
   "id": "20014e89-2127-472d-b5c6-7cd0fcc3848d",
   "metadata": {},
   "outputs": [],
   "source": []
  }
 ],
 "metadata": {
  "kernelspec": {
   "display_name": "Python 3 (ipykernel)",
   "language": "python",
   "name": "python3"
  },
  "language_info": {
   "codemirror_mode": {
    "name": "ipython",
    "version": 3
   },
   "file_extension": ".py",
   "mimetype": "text/x-python",
   "name": "python",
   "nbconvert_exporter": "python",
   "pygments_lexer": "ipython3",
   "version": "3.10.14"
  }
 },
 "nbformat": 4,
 "nbformat_minor": 5
}
